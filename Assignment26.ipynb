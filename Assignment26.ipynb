{
 "cells": [
  {
   "cell_type": "markdown",
   "id": "144fe36e",
   "metadata": {},
   "source": [
    "Assignment 26"
   ]
  },
  {
   "cell_type": "markdown",
   "id": "ab9d28d4",
   "metadata": {},
   "source": [
    "Q1. What are the three measures of central tendency? "
   ]
  },
  {
   "cell_type": "markdown",
   "id": "31ce0300",
   "metadata": {},
   "source": [
    "Ans: The three measures of central tendency are mean, median and mode."
   ]
  },
  {
   "cell_type": "markdown",
   "id": "9031519a",
   "metadata": {},
   "source": [
    "Q2. What is the difference between the mean, median, and mode? How are they used to measure the central tendency of a dataset?"
   ]
  },
  {
   "cell_type": "markdown",
   "id": "cac81cb6",
   "metadata": {},
   "source": [
    "Ans: The difference between mean, median, and mode is:\n",
    "     Mean is the average value of the given observation. Median is the middle value of the given observation. Mode is the            most repeated value in the given observation.\n",
    "     Mean: The mean represents the average value of the dataset. It can be calculated as the sum of all the values in the            dataset divided by the number of values.\n",
    "     Consider the dataset: 1,2,3,4,5,6,7,8,9,10\n",
    "     sum of the data =55\n",
    "     mean=55/10=5.5\n",
    "     Median: Median is the middle value of the dataset in which the dataset is arranged in the ascending order or in descending      order. When the dataset contains an even number of values, then the median value of the dataset can be found by taking the\n",
    "     mean of the middle two values.\n",
    "     Consider the dataset with the odd numbers of observations arranged in descending order 23,21,18,16,15,13,12,10,9,7,6,5,2.\n",
    "     Here 12 is the middle or median number that has 6 values above it and 6 values below it.\n",
    "     Consider the dataset with even numbers of observations that are arranged in descending order                       40,38,35,33,32,30,29,27,26,24,\n",
    "     23,22,19, and 17\n",
    "     Here two middle values is obtained 27 and 29. The mean of these two values is 27+29/2 =28\n",
    "     Median is 28\n",
    "     Mode: The mode represents the frequently occurring value in the dataset. Sometimes the dataset may contain multiple modes\n",
    "     and in some cases, it does not contain any mode at all.\n",
    "     Consider the given dataset: 5,4,3,2,1,5,4,5\n",
    "     Since the mode represents the most common value. Hence, the most frequently repeated value in the given dataset is 5.\n",
    "      \n",
    "     "
   ]
  },
  {
   "cell_type": "markdown",
   "id": "0304b397",
   "metadata": {},
   "source": [
    "Q3. Measure the three measures of central tendency for the given height data:\n",
    "    [178,177,176,177,178.2,178,175,179,180,175,178.9,176.2,177,172.5,178,176.5]"
   ]
  },
  {
   "cell_type": "code",
   "execution_count": 10,
   "id": "838a2f0d",
   "metadata": {},
   "outputs": [
    {
     "name": "stdout",
     "output_type": "stream",
     "text": [
      "Mean is:  177.01875\n",
      "Median is:  177.0\n",
      "Mode is:  178\n"
     ]
    }
   ],
   "source": [
    "#Ans:\n",
    "import numpy as np\n",
    "import statistics\n",
    "height=[178,177,176,177,178.2,178,175,179,180,175,178.9,176.2,177,172.5,178,176.5]\n",
    "print(\"Mean is: \",np.mean(height))\n",
    "print(\"Median is: \",np.median(height))\n",
    "print(\"Mode is: \",statistics.mode(height))"
   ]
  },
  {
   "cell_type": "markdown",
   "id": "c858483a",
   "metadata": {},
   "source": [
    "Q4. Find the standerd deviation for the given data:\n",
    "    [178,177,176,177,178.2,178,175,179,180,175,178.9,176.2,177,172.5,178,176.5]\n",
    "    "
   ]
  },
  {
   "cell_type": "code",
   "execution_count": 13,
   "id": "cfbbc50d",
   "metadata": {},
   "outputs": [
    {
     "name": "stdout",
     "output_type": "stream",
     "text": [
      "Standerd deviation is:  1.7885814036548633\n"
     ]
    }
   ],
   "source": [
    "#Ans:\n",
    "import numpy as np\n",
    "data=[178,177,176,177,178.2,178,175,179,180,175,178.9,176.2,177,172.5,178,176.5]\n",
    "print(\"Standerd deviation is: \",np.std(height))"
   ]
  },
  {
   "cell_type": "markdown",
   "id": "c162e84a",
   "metadata": {},
   "source": [
    "Q5. How are measures of dispersion such as range, variance, and standerd deviation used to describe the spread of a dataset?\n",
    "    Provide an example."
   ]
  },
  {
   "cell_type": "markdown",
   "id": "f6450d90",
   "metadata": {},
   "source": [
    "Ans:  Range: Range is calculated as the difference between the highest and lowest values.\n",
    "      Variance: A measure of how far a set of numbers are spread out from each other. It describes how far the numbers lie from\n",
    "      the mean. To calculate this statistic, we calculate a set of squared differences between the data points and the mean,         sum them, and then divide by the number of observations. Here, it is the average squared difference.\n",
    "      Standerd deviation: The standerd deviation is the standerd or typical difference between each data point and the mean.         When the values in a dataset are grouped closer together, we have a smaller standerd deviation. On the other hand, when         the values are spread out more, the standerd deviation is larger. Standerd deviation calculated as the square root of           variance.\n",
    "      Consider an example:\n",
    "      Consider the dataset: 1,3,5,5,6,7,9,10\n",
    "      Range=Highest value-Lowest value=10-1=9\n",
    "      Mean=1+3+5+5+6+7+9+10/8=5.75\n",
    "      Variance=[(1-5.75)**2+(3-5.75)**2+(5-5.75)**2+(5-5.75)**2+(6-5.75)**2+(7-5.75)**2+(9-5.75)**2+(10-5.75)**2]/8\n",
    "              =7.68\n",
    "      Standerd deviation=sqrt(Variance)=2.77        \n",
    "           \n",
    "      \n",
    "      "
   ]
  },
  {
   "cell_type": "markdown",
   "id": "7715c09d",
   "metadata": {},
   "source": [
    "Q6. What is a Venn diagram?"
   ]
  },
  {
   "cell_type": "markdown",
   "id": "c4941386",
   "metadata": {},
   "source": [
    "Ans: A Venn diagram is an illustration that uses circles to show the relationships among things or finite groups of things."
   ]
  },
  {
   "cell_type": "markdown",
   "id": "1b889331",
   "metadata": {},
   "source": [
    "Q7. For the two given sets A={2,3,4,5,6,7} & B={0,6,8,10}. Find\n",
    "    (i) A intersection B\n",
    "    (ii) A Union B"
   ]
  },
  {
   "cell_type": "markdown",
   "id": "3e4211b1",
   "metadata": {},
   "source": [
    "Ans: (i) A Intersection B={6}\n",
    "     (ii) A Union B={0,2,3,4,5,6,7,8,10}"
   ]
  },
  {
   "cell_type": "markdown",
   "id": "67b414fe",
   "metadata": {},
   "source": [
    "Q8. What do you understand about skewness in data?"
   ]
  },
  {
   "cell_type": "markdown",
   "id": "11973e96",
   "metadata": {},
   "source": [
    "Ans: Skewness is a measurement of the distortion of symmetrical distribution or asymmetry in a dataset. Skewness is                  demonstrated on a bell curve when data points are not distributed symmetrically to the left and right sides of the median\n",
    "     on a bell curve."
   ]
  },
  {
   "cell_type": "markdown",
   "id": "cdb22d22",
   "metadata": {},
   "source": [
    "Q9. If a data is right skewed than what will be the position of the median with respect to mean?"
   ]
  },
  {
   "cell_type": "markdown",
   "id": "5ba7a2c1",
   "metadata": {},
   "source": [
    "Ans: If the data is right skewed than position of median is less or equal to mean."
   ]
  },
  {
   "cell_type": "markdown",
   "id": "4ab5f5bc",
   "metadata": {},
   "source": [
    "Q10. Explain the difference between covariance and correlation. How are these measures used in statistical analysis?"
   ]
  },
  {
   "cell_type": "markdown",
   "id": "aed0da4e",
   "metadata": {},
   "source": [
    "Ans: 1. Covariance indicates the extent of the variables being dependent on each other. A higher value denotes higher                   dependency. Whereas, Correlation signifies the strength of association between the variables when the other things are\n",
    "        constant.\n",
    "     2. Covariance lies between -infinitive and +infinitive.Whereas, correlation has limited value in the range of -1 and +1. \n",
    "     3. The covariance will have a definite unit, as it is concluded from the multiplication of numbers and their units.                 Whereas, correlation is a number without units but includes decimal values.\n",
    "     4. Covariance is the measure of correlation. Whereas, Correlation is the scaled version of covariance.\n",
    "     5. Covariance is affected by change in scale.Whereas, correlation is not influenced by the change in scale.\n",
    "     \n",
    "  Let X and Y be two random variables with mean Mx, My and standerd deviation Sx and Sy\n",
    "     then, Cov(X,Y)=$\\sum$(xi-Mx)(yi-My)/n-1 and\n",
    "     \n",
    "           Cor(X,Y)=  ∑(xi-x)(yi-y)/Sx*Sy\n",
    "          \n",
    "           where, xi=data value of X\n",
    "                  yi=data value of Y\n",
    "                  Mx=mean of X\n",
    "                  My=Mean of Y\n",
    "                  n=number of data values"
   ]
  },
  {
   "cell_type": "markdown",
   "id": "0572446e",
   "metadata": {},
   "source": []
  },
  {
   "cell_type": "markdown",
   "id": "8c3a2b79",
   "metadata": {},
   "source": [
    "Q11. What is the formula for calculating the sample mean? Provide an example calculation for a dataset."
   ]
  },
  {
   "cell_type": "markdown",
   "id": "024740be",
   "metadata": {},
   "source": [
    "Ans: Sample mean=∑\n",
    " xi/n\n",
    "   Where, xi=data points\n",
    "          n=total no of points\n",
    "Consider the dataset 12,10,21,18,24,19,28,27,11,13\n",
    "Here, n=10\n",
    "Sample mean=(12+10+21+18+24+19+28+27+11+13)/10=18.3"
   ]
  },
  {
   "cell_type": "markdown",
   "id": "a5e327af",
   "metadata": {},
   "source": []
  },
  {
   "cell_type": "markdown",
   "id": "325e39c1",
   "metadata": {},
   "source": [
    "Q12. For a normal distribution data what is the relationship between its measure of central tendency?"
   ]
  },
  {
   "cell_type": "markdown",
   "id": "6bbf5fea",
   "metadata": {},
   "source": [
    "Ans: In normal distribution, mean=median=mode"
   ]
  },
  {
   "cell_type": "markdown",
   "id": "0608e184",
   "metadata": {},
   "source": [
    "Q13. How is covariance different from correlation?"
   ]
  },
  {
   "cell_type": "markdown",
   "id": "1bb2445b",
   "metadata": {},
   "source": [
    "Ans: 1. Covariance reveals how two variables change together while correlation determines how closely two variables related             to each other.\n",
    "     2. Covariance indicates the direction of the linear relationship between variables. Whereas, correlation measures both the\n",
    "        strength and direction of the linear relationship between two variables.\n",
    "     3. Covariance lies between -infinitive and +infinitive.Whereas, correlation has limited value in the range of -1 and +1.\n",
    "     4. The covariance will have a definite unit, as it is concluded from the multiplication of numbers and their units.                 Whereas, correlation is a number without units but includes decimal values.\n",
    "     5. Covariance is the measure of correlation. Whereas, Correlation is the scaled version of covariance.\n",
    "     6. Covariance is affected by change in scale.Whereas, correlation is not influenced by the change in scale."
   ]
  },
  {
   "cell_type": "markdown",
   "id": "6f4b8ac7",
   "metadata": {},
   "source": [
    "Q14. How do outliers affect affect measures of central tendency and dispersion? Provide an example."
   ]
  },
  {
   "cell_type": "markdown",
   "id": "3969ca22",
   "metadata": {},
   "source": [
    "Ans: If outliers present in a dataset, then\n",
    "     1. Mean: If the outliers to the right of the graph, then these outliers causing the mean to increase. If outliers present                 in left of the graph these outliers are dragging down the mean. This causes a conflict because the mean no longer               provides a good representation of the data, alternatively we much rather use of the median\n",
    "     2. Median: Little change.\n",
    "     3. Mode: No change\n",
    "     4. Range: Since the range takes only two values, the extreme values/outliers will impact the range. When there are outliers\n",
    "               the range statistic can be misleading.\n",
    "     5. Standerd deviation: In the presence of outliers, generate inappropriate data.\n",
    "     Consider an example:\n",
    "     Consider the dataset: 10,11,23,15,15,16,19,20,17,21\n",
    "     Mean=16.7\n",
    "     Median=16.5\n",
    "     Mode=15\n",
    "     Range=23-10=13\n",
    "     Standerd deviation=3.98\n",
    "     If we add an outlier, suppose 100,\n",
    "     then\n",
    "     Mean=24.27\n",
    "     Median=17\n",
    "     Mode=15\n",
    "     Range=100-10=90\n",
    "     Standerd deviation=24.24"
   ]
  },
  {
   "cell_type": "code",
   "execution_count": null,
   "id": "72387c67",
   "metadata": {},
   "outputs": [],
   "source": []
  }
 ],
 "metadata": {
  "kernelspec": {
   "display_name": "Python 3 (ipykernel)",
   "language": "python",
   "name": "python3"
  },
  "language_info": {
   "codemirror_mode": {
    "name": "ipython",
    "version": 3
   },
   "file_extension": ".py",
   "mimetype": "text/x-python",
   "name": "python",
   "nbconvert_exporter": "python",
   "pygments_lexer": "ipython3",
   "version": "3.10.9"
  }
 },
 "nbformat": 4,
 "nbformat_minor": 5
}
